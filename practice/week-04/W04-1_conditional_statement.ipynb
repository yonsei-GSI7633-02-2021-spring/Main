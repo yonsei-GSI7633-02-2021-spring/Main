{
 "cells": [
  {
   "cell_type": "markdown",
   "metadata": {},
   "source": [
    "# BIG DATA ANALYSIS : Python Basic\n",
    "---"
   ]
  },
  {
   "cell_type": "code",
   "execution_count": 1,
   "metadata": {},
   "outputs": [
    {
     "name": "stdout",
     "output_type": "stream",
     "text": [
      "나는 학생이다.\n"
     ]
    }
   ],
   "source": [
    "# 일반적인 boolean 변수를 이용한 조건문\n",
    "is_student = True\n",
    "if is_student :\n",
    "    print('나는 학생이다.')\n",
    "else:\n",
    "    print('나는 학생이 아니다.')"
   ]
  },
  {
   "cell_type": "code",
   "execution_count": 2,
   "metadata": {},
   "outputs": [
    {
     "name": "stdout",
     "output_type": "stream",
     "text": [
      "a is 0\n",
      "b is not 0\n"
     ]
    }
   ],
   "source": [
    "# 정수형 변수에 의한 조건문\n",
    "a = 0\n",
    "b = 3\n",
    "if a :\n",
    "    print('a is not 0')\n",
    "else :\n",
    "    print('a is 0')\n",
    "\n",
    "if b :\n",
    "    print('b is not 0')\n",
    "else :\n",
    "    print('b is 0')"
   ]
  },
  {
   "cell_type": "code",
   "execution_count": 3,
   "metadata": {},
   "outputs": [
    {
     "name": "stdout",
     "output_type": "stream",
     "text": [
      "Something is not in a\n",
      "Something is in b\n",
      "h is in b\n"
     ]
    }
   ],
   "source": [
    "# 문자열 변수에 의한 조건문\n",
    "\n",
    "a = \"\"\n",
    "b = \"hello\"\n",
    "\n",
    "if a :\n",
    "    print(\"Something is in a\")\n",
    "else:\n",
    "    print(\"Something is not in a\")\n",
    "    \n",
    "if b :\n",
    "    print(\"Something is in b\")\n",
    "else:\n",
    "    print(\"Something is not in b\")\n",
    "\n",
    "if 'h' in b:\n",
    "    print('h is in b')\n"
   ]
  },
  {
   "cell_type": "code",
   "execution_count": 4,
   "metadata": {},
   "outputs": [
    {
     "name": "stdout",
     "output_type": "stream",
     "text": [
      "a is empty\n",
      "b is not empty\n",
      "1 is in b\n"
     ]
    }
   ],
   "source": [
    "# 리스트형 변수에 의한 조건문\n",
    "a = []\n",
    "b = [1,2,3]\n",
    "\n",
    "if a :\n",
    "    print(\"a is not empty\")\n",
    "else :\n",
    "    print(\"a is empty\")\n",
    "    \n",
    "if b :\n",
    "    print(\"b is not empty\")\n",
    "else :\n",
    "    print(\"b is empty\")\n",
    "    \n",
    "if 1 in b:\n",
    "    print(\"1 is in b\")"
   ]
  },
  {
   "cell_type": "code",
   "execution_count": 5,
   "metadata": {},
   "outputs": [
    {
     "name": "stdout",
     "output_type": "stream",
     "text": [
      "dict a is empty\n",
      "Korea is in b\n"
     ]
    }
   ],
   "source": [
    "a = {}\n",
    "b = {\"Korea\":10, \"China\":0}\n",
    "\n",
    "if a :\n",
    "    print(\"dict a is not empty\")\n",
    "else :\n",
    "    print(\"dict a is empty\")\n",
    "\n",
    "if \"Korea\" in b:\n",
    "    print(\"Korea is in b\")"
   ]
  },
  {
   "cell_type": "code",
   "execution_count": 6,
   "metadata": {},
   "outputs": [
    {
     "name": "stdout",
     "output_type": "stream",
     "text": [
      "False\n"
     ]
    }
   ],
   "source": [
    "is_empty = True\n",
    "x = [1,2,3,4]\n",
    "if x :\n",
    "    is_empty = False\n",
    "else:\n",
    "    is_empty = True\n",
    "print(is_empty)"
   ]
  },
  {
   "cell_type": "code",
   "execution_count": 7,
   "metadata": {},
   "outputs": [
    {
     "name": "stdout",
     "output_type": "stream",
     "text": [
      "False\n"
     ]
    }
   ],
   "source": [
    "is_empty = False if x else True\n",
    "print(is_empty)"
   ]
  },
  {
   "cell_type": "code",
   "execution_count": null,
   "metadata": {},
   "outputs": [],
   "source": []
  }
 ],
 "metadata": {
  "kernelspec": {
   "display_name": "Python 3",
   "language": "python",
   "name": "python3"
  },
  "language_info": {
   "codemirror_mode": {
    "name": "ipython",
    "version": 3
   },
   "file_extension": ".py",
   "mimetype": "text/x-python",
   "name": "python",
   "nbconvert_exporter": "python",
   "pygments_lexer": "ipython3",
   "version": "3.7.6"
  }
 },
 "nbformat": 4,
 "nbformat_minor": 4
}
